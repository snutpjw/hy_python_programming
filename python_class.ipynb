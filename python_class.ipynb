{
 "cells": [
  {
   "cell_type": "code",
   "execution_count": 4,
   "id": "99420581-e26c-454d-92f8-e08e4ca711ce",
   "metadata": {},
   "outputs": [
    {
     "name": "stdout",
     "output_type": "stream",
     "text": [
      "3\n",
      "7\n",
      "12\n"
     ]
    }
   ],
   "source": [
    "result = 0\n",
    "\n",
    "def adder(num):\n",
    "    global result\n",
    "    result += num\n",
    "    return result\n",
    "\n",
    "print(adder(3))\n",
    "print(adder(4))\n",
    "print(adder(5))"
   ]
  },
  {
   "cell_type": "code",
   "execution_count": 6,
   "id": "8820799d-889d-4fe0-957b-63614bc1ab8c",
   "metadata": {},
   "outputs": [
    {
     "name": "stdout",
     "output_type": "stream",
     "text": [
      "3\n",
      "7\n",
      "3\n",
      "10\n"
     ]
    }
   ],
   "source": [
    "result1 = 0\n",
    "result2 = 0\n",
    "\n",
    "def adder1(num):\n",
    "    global result1\n",
    "    result1 += num\n",
    "    return result1\n",
    "\n",
    "def adder2(num):\n",
    "    global result2\n",
    "    result2 += num\n",
    "    return result2\n",
    "\n",
    "print(adder1(3))\n",
    "print(adder1(4))\n",
    "print(adder2(3))\n",
    "print(adder2(7))"
   ]
  },
  {
   "cell_type": "code",
   "execution_count": 7,
   "id": "7468e890-822c-42d4-8908-70cfd98b01c4",
   "metadata": {},
   "outputs": [
    {
     "name": "stdout",
     "output_type": "stream",
     "text": [
      "3\n",
      "7\n",
      "3\n",
      "10\n"
     ]
    }
   ],
   "source": [
    "class Calculator:\n",
    "    def __init__(self):\n",
    "        self.result = 0\n",
    "\n",
    "    def adder(self, num):\n",
    "        self.result += num\n",
    "        return self.result\n",
    "\n",
    "cal1 = Calculator()\n",
    "cal2 = Calculator()\n",
    "\n",
    "print(cal1.adder(3))\n",
    "print(cal1.adder(4))\n",
    "print(cal2.adder(3))\n",
    "print(cal2.adder(7))"
   ]
  },
  {
   "cell_type": "code",
   "execution_count": 8,
   "id": "7b120346-465b-488d-b9e7-8f547d930984",
   "metadata": {},
   "outputs": [
    {
     "data": {
      "text/plain": [
       "'지구는 4006년에 멸망한다.'"
      ]
     },
     "execution_count": 8,
     "metadata": {},
     "output_type": "execute_result"
    }
   ],
   "source": [
    "class Service:\n",
    "    secret = \"지구는 4006년에 멸망한다.\"\n",
    "\n",
    "an = Service()\n",
    "an.secret"
   ]
  },
  {
   "cell_type": "code",
   "execution_count": 10,
   "id": "12071585-5143-4e8b-83c5-8e8abf3ca3ed",
   "metadata": {},
   "outputs": [
    {
     "data": {
      "text/plain": [
       "'지구는 4006년에 멸망한다.'"
      ]
     },
     "execution_count": 10,
     "metadata": {},
     "output_type": "execute_result"
    }
   ],
   "source": [
    "s = Service()\n",
    "s.secret"
   ]
  },
  {
   "cell_type": "code",
   "execution_count": 11,
   "id": "0ad31c9b-d4c4-4012-9fa9-bec7d01ba995",
   "metadata": {},
   "outputs": [
    {
     "data": {
      "text/plain": [
       "'지구는 4006년에 멸망한다.'"
      ]
     },
     "execution_count": 11,
     "metadata": {},
     "output_type": "execute_result"
    }
   ],
   "source": [
    "s2 = Service()\n",
    "s2.secret"
   ]
  },
  {
   "cell_type": "code",
   "execution_count": 20,
   "id": "cb71abd7-7218-4b78-abe5-88f91912ba5c",
   "metadata": {},
   "outputs": [],
   "source": [
    "class Service:\n",
    "    secret=\"지구는 4006년에 멸망한다\"\n",
    "    def sum(self, a, b):\n",
    "        result = a+b\n",
    "        print(\"%s + %s = %s이다.\" %(a, b, result))"
   ]
  },
  {
   "cell_type": "code",
   "execution_count": 21,
   "id": "95d37a1e-1179-4dbb-b45c-b1223f5b50d0",
   "metadata": {},
   "outputs": [],
   "source": [
    "an = Service()"
   ]
  },
  {
   "cell_type": "code",
   "execution_count": 22,
   "id": "01201c73-59e4-41b1-a51f-881ee4bc4840",
   "metadata": {},
   "outputs": [
    {
     "name": "stdout",
     "output_type": "stream",
     "text": [
      "1 + 1 = 2이다.\n"
     ]
    }
   ],
   "source": [
    "an.sum(1,1)"
   ]
  },
  {
   "cell_type": "code",
   "execution_count": 43,
   "id": "1f5e7152-7d25-4afb-97ab-b7ee263e7cd2",
   "metadata": {},
   "outputs": [],
   "source": [
    "class Service:\n",
    "    secret=\"지구는 4006년에 멸망한다\"\n",
    "    def setname(self, name):\n",
    "        self.name = name\n",
    "    def sum(self, a, b):\n",
    "        result = a+b\n",
    "        print(\"%s님, %s + %s = %s입니다.\" %(self.name, a, b, result))"
   ]
  },
  {
   "cell_type": "code",
   "execution_count": 44,
   "id": "c3440214-4a89-4b0e-9e5e-3baf9d02a58c",
   "metadata": {},
   "outputs": [],
   "source": [
    "an = Service()"
   ]
  },
  {
   "cell_type": "code",
   "execution_count": 45,
   "id": "2cbaf26b-df89-47ba-955e-526715de739b",
   "metadata": {},
   "outputs": [],
   "source": [
    "an.setname(\"박달도사\")"
   ]
  },
  {
   "cell_type": "code",
   "execution_count": 46,
   "id": "03e99a96-ec4b-4cce-a923-d6186deefd7b",
   "metadata": {},
   "outputs": [
    {
     "name": "stdout",
     "output_type": "stream",
     "text": [
      "박달도사님, 1 + 1 = 2입니다.\n"
     ]
    }
   ],
   "source": [
    "an.sum(1,1)"
   ]
  },
  {
   "cell_type": "code",
   "execution_count": 49,
   "id": "dd59f57e-058a-437b-8c6f-3600a60f52ba",
   "metadata": {},
   "outputs": [
    {
     "ename": "SyntaxError",
     "evalue": "invalid syntax. Perhaps you forgot a comma? (2483656082.py, line 3)",
     "output_type": "error",
     "traceback": [
      "\u001b[1;36m  Cell \u001b[1;32mIn[49], line 3\u001b[1;36m\u001b[0m\n\u001b[1;33m    Traceback(most recent call last):\u001b[0m\n\u001b[1;37m              ^\u001b[0m\n\u001b[1;31mSyntaxError\u001b[0m\u001b[1;31m:\u001b[0m invalid syntax. Perhaps you forgot a comma?\n"
     ]
    }
   ],
   "source": [
    "lee = Service()\n",
    "lee.sum(1,1)\n",
    "Traceback(most recent call last):\n",
    "File \"<stdin>\", line 1, in <module>\n",
    "File \"<stdin>\", line 7, in sum\n",
    "AttributeError: 'Service' object has no attribute 'name'"
   ]
  },
  {
   "cell_type": "code",
   "execution_count": 50,
   "id": "81df5049-ab53-4ed7-84c0-9f7a0e3fa18b",
   "metadata": {},
   "outputs": [],
   "source": [
    "class Service:\n",
    "    secret = \"지구는 4006년에 멸망한다\"\n",
    "    def __init__(self, name):\n",
    "        self.name = name\n",
    "    def sum(self, a, b):\n",
    "        result = a+b\n",
    "        print(\"%s님, %s + %s = %s입니다.\" %(self.name, a, b, result))"
   ]
  },
  {
   "cell_type": "code",
   "execution_count": 51,
   "id": "20814701-5f33-434f-a90e-fd4235e4ab4c",
   "metadata": {},
   "outputs": [],
   "source": [
    "an = Service(\"박달도사\")"
   ]
  },
  {
   "cell_type": "code",
   "execution_count": 52,
   "id": "569085d5-5fb3-4caf-8181-bde66a11f946",
   "metadata": {},
   "outputs": [
    {
     "name": "stdout",
     "output_type": "stream",
     "text": [
      "박달도사님, 1 + 1 = 2입니다.\n"
     ]
    }
   ],
   "source": [
    "an.sum(1,1)"
   ]
  },
  {
   "cell_type": "code",
   "execution_count": 53,
   "id": "2710a6e5-705e-4a4a-8bf9-b3abd84f8052",
   "metadata": {},
   "outputs": [],
   "source": [
    "class FourCal:\n",
    "    pass"
   ]
  },
  {
   "cell_type": "code",
   "execution_count": 54,
   "id": "ca34e384-0617-4057-bfde-39c1ce0b3326",
   "metadata": {},
   "outputs": [],
   "source": [
    "a=FourCal()"
   ]
  },
  {
   "cell_type": "code",
   "execution_count": 56,
   "id": "03fc30eb-b715-4cc3-b996-14b5a0a4e493",
   "metadata": {},
   "outputs": [
    {
     "data": {
      "text/plain": [
       "__main__.FourCal"
      ]
     },
     "execution_count": 56,
     "metadata": {},
     "output_type": "execute_result"
    }
   ],
   "source": [
    "type(a)"
   ]
  },
  {
   "cell_type": "code",
   "execution_count": 57,
   "id": "6002e9dd-e6fd-41d0-a875-ad49b7578014",
   "metadata": {},
   "outputs": [],
   "source": [
    "class FourCal:\n",
    "    def setdata(self, first, second):\n",
    "        self.first = first\n",
    "        self.second = second\n",
    "\n",
    "a=FourCal()"
   ]
  },
  {
   "cell_type": "code",
   "execution_count": 58,
   "id": "653e49e2-f721-4a4a-baf2-440570bc4a94",
   "metadata": {},
   "outputs": [],
   "source": [
    "a.setdata(4,2)"
   ]
  },
  {
   "cell_type": "code",
   "execution_count": 59,
   "id": "38377651-a9b0-4854-96d7-8e852548a1d4",
   "metadata": {},
   "outputs": [
    {
     "name": "stdout",
     "output_type": "stream",
     "text": [
      "4\n"
     ]
    }
   ],
   "source": [
    "print(a.first)"
   ]
  },
  {
   "cell_type": "code",
   "execution_count": 60,
   "id": "0d93373a-fd90-450f-86fa-93c853c7a7f5",
   "metadata": {},
   "outputs": [
    {
     "name": "stdout",
     "output_type": "stream",
     "text": [
      "2\n"
     ]
    }
   ],
   "source": [
    "print(a.second)"
   ]
  },
  {
   "cell_type": "code",
   "execution_count": 77,
   "id": "2d6af469-b7d8-4aa1-9906-bf281a89a14d",
   "metadata": {},
   "outputs": [],
   "source": [
    "class FourCal:\n",
    "    def setdata(self, first, second):\n",
    "        self.first = first\n",
    "        self.second = second\n",
    "        \n",
    "    def sum(self):\n",
    "        result=self.first + self.second\n",
    "        return result\n",
    "\n",
    "    def mul(self):\n",
    "        result=self.first * self.second\n",
    "        return result\n",
    "\n",
    "    def sub(self):\n",
    "        result = self.first - self.second\n",
    "        return result\n",
    "\n",
    "    def div(self):\n",
    "        result=self.first / self.second\n",
    "        return result\n",
    "\n",
    "a = FourCal()\n",
    "b = FourCal()"
   ]
  },
  {
   "cell_type": "code",
   "execution_count": 78,
   "id": "03269580-5d76-4260-8782-4bd942e94d36",
   "metadata": {},
   "outputs": [],
   "source": [
    "a.setdata(4,2)"
   ]
  },
  {
   "cell_type": "code",
   "execution_count": 79,
   "id": "7c5b7f45-426d-4eaa-a3da-c54f17328e09",
   "metadata": {},
   "outputs": [],
   "source": [
    "b.setdata(3,7)"
   ]
  },
  {
   "cell_type": "code",
   "execution_count": 80,
   "id": "eb4a15af-cb69-44d7-b3c3-6c066790e447",
   "metadata": {},
   "outputs": [
    {
     "data": {
      "text/plain": [
       "6"
      ]
     },
     "execution_count": 80,
     "metadata": {},
     "output_type": "execute_result"
    }
   ],
   "source": [
    "a.sum()"
   ]
  },
  {
   "cell_type": "code",
   "execution_count": 81,
   "id": "2feba7b6-0aff-47e8-825c-3a2a191ed252",
   "metadata": {},
   "outputs": [
    {
     "data": {
      "text/plain": [
       "8"
      ]
     },
     "execution_count": 81,
     "metadata": {},
     "output_type": "execute_result"
    }
   ],
   "source": [
    "a.mul()"
   ]
  },
  {
   "cell_type": "code",
   "execution_count": 82,
   "id": "7723d668-4ca9-4391-a278-7c61d4079e5d",
   "metadata": {},
   "outputs": [
    {
     "data": {
      "text/plain": [
       "2"
      ]
     },
     "execution_count": 82,
     "metadata": {},
     "output_type": "execute_result"
    }
   ],
   "source": [
    "a.sub()"
   ]
  },
  {
   "cell_type": "code",
   "execution_count": 83,
   "id": "0df0abc9-61f6-43fc-a238-ed4a22f525fe",
   "metadata": {},
   "outputs": [
    {
     "data": {
      "text/plain": [
       "2.0"
      ]
     },
     "execution_count": 83,
     "metadata": {},
     "output_type": "execute_result"
    }
   ],
   "source": [
    "a.div()"
   ]
  },
  {
   "cell_type": "code",
   "execution_count": 84,
   "id": "feebbc64-bd3c-4afa-b649-104536befb39",
   "metadata": {},
   "outputs": [
    {
     "data": {
      "text/plain": [
       "-4"
      ]
     },
     "execution_count": 84,
     "metadata": {},
     "output_type": "execute_result"
    }
   ],
   "source": [
    "b.sub()"
   ]
  },
  {
   "cell_type": "code",
   "execution_count": 87,
   "id": "b44260ce-075f-4e1b-afd1-e6e3eca9ff84",
   "metadata": {},
   "outputs": [
    {
     "name": "stdout",
     "output_type": "stream",
     "text": [
      "Player 1 rolled[2, 1, 3]\n",
      "Player 2 rolled[4, 1, 5]\n",
      "Player 2 wins\n"
     ]
    }
   ],
   "source": [
    "import random\n",
    "player1_dice = []\n",
    "player2_dice = []\n",
    "\n",
    "for i in range(3):\n",
    "    player1_dice.append(random.randint(1,6))\n",
    "    player2_dice.append(random.randint(1,6))\n",
    "\n",
    "print(\"Player 1 rolled\" + str(player1_dice))\n",
    "print(\"Player 2 rolled\" + str(player2_dice))\n",
    "\n",
    "if sum(player1_dice) == sum(player2_dice):\n",
    "    print(\"Draw\")\n",
    "elif sum(player1_dice) > sum(player2_dice):\n",
    "    print(\"Player 1 wins\")\n",
    "else:\n",
    "    print(\"Player 2 wins\")"
   ]
  },
  {
   "cell_type": "code",
   "execution_count": null,
   "id": "57d31395-555d-4f1a-80af-1c41887642a2",
   "metadata": {},
   "outputs": [],
   "source": []
  },
  {
   "cell_type": "code",
   "execution_count": 90,
   "id": "ba8bcc06-2e9d-47ca-aec2-13f5deffb435",
   "metadata": {},
   "outputs": [
    {
     "name": "stdout",
     "output_type": "stream",
     "text": [
      "Player 1 rolled[6, 2, 2]\n",
      "Player 2 rolled[5, 1, 6]\n",
      "Player 2 wins!\n"
     ]
    }
   ],
   "source": [
    "from random import randint\n",
    "\n",
    "class Player:\n",
    "    def __init__(self):\n",
    "        self.dice = []\n",
    "    def roll(self):\n",
    "        self.dice = []\n",
    "        for i in range(3):\n",
    "            self.dice.append(randint(1,6))\n",
    "    def get_dice(self):\n",
    "        return self.dice\n",
    "\n",
    "player1 = Player()\n",
    "player2 = Player()\n",
    "\n",
    "player1.roll()\n",
    "player2.roll()\n",
    "\n",
    "print(\"Player 1 rolled\" + str(player1.get_dice()))\n",
    "print(\"Player 2 rolled\" + str(player2.get_dice()))\n",
    "\n",
    "if sum(player1.get_dice()) == sum(player2.get_dice()):\n",
    "    print(\"Draw!\")\n",
    "elif sum(player1.get_dice()) > sum(player2.get_dice()):\n",
    "    print(\"Player 1 wins!\")\n",
    "else:\n",
    "    print(\"Player 2 wins!\")"
   ]
  },
  {
   "cell_type": "code",
   "execution_count": null,
   "id": "715fc57b-ac1b-4870-a58f-1ff20e2bdc0e",
   "metadata": {},
   "outputs": [],
   "source": []
  }
 ],
 "metadata": {
  "kernelspec": {
   "display_name": "Python 3 (ipykernel)",
   "language": "python",
   "name": "python3"
  },
  "language_info": {
   "codemirror_mode": {
    "name": "ipython",
    "version": 3
   },
   "file_extension": ".py",
   "mimetype": "text/x-python",
   "name": "python",
   "nbconvert_exporter": "python",
   "pygments_lexer": "ipython3",
   "version": "3.11.3"
  }
 },
 "nbformat": 4,
 "nbformat_minor": 5
}
